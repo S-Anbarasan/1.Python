{
 "cells": [
  {
   "cell_type": "code",
   "execution_count": 5,
   "id": "13dac3bf",
   "metadata": {},
   "outputs": [
    {
     "name": "stdout",
     "output_type": "stream",
     "text": [
      "Enter Age=18\n",
      "Adult\n"
     ]
    }
   ],
   "source": [
    "# if else\n",
    "Age=int(input(\"Enter Age=\"))\n",
    "if(Age<18):\n",
    "    print(\"Children\")\n",
    "else:\n",
    "    print(\"Adult\")"
   ]
  },
  {
   "cell_type": "code",
   "execution_count": null,
   "id": "c05a7c39",
   "metadata": {},
   "outputs": [],
   "source": [
    "# if elif"
   ]
  },
  {
   "cell_type": "code",
   "execution_count": 12,
   "id": "fa7a6a5c",
   "metadata": {},
   "outputs": [
    {
     "name": "stdout",
     "output_type": "stream",
     "text": [
      "Enter Age=1000\n",
      "Senior Citizen\n"
     ]
    }
   ],
   "source": [
    "Age=int(input(\"Enter Age=\"))\n",
    "if(Age<18):\n",
    "    print(\"Children\")\n",
    "elif(Age<=35):\n",
    "    print(\"Adult\")\n",
    "elif(Age<=59):\n",
    "    print(\"Citizen\")\n",
    "else:\n",
    "    print(\"Senior Citizen\")"
   ]
  },
  {
   "cell_type": "code",
   "execution_count": 13,
   "id": "5a7e7d61",
   "metadata": {},
   "outputs": [],
   "source": [
    "# for loop"
   ]
  },
  {
   "cell_type": "code",
   "execution_count": 14,
   "id": "41801928",
   "metadata": {},
   "outputs": [],
   "source": [
    "# list=[]"
   ]
  },
  {
   "cell_type": "code",
   "execution_count": 16,
   "id": "c133f68b",
   "metadata": {},
   "outputs": [
    {
     "name": "stdout",
     "output_type": "stream",
     "text": [
      "12\n",
      "18\n",
      "20\n",
      "22\n",
      "24\n",
      "26\n"
     ]
    }
   ],
   "source": [
    "list=[12,20,46,80,33,6]\n",
    "for temproary in list:\n",
    "    print(temproary)"
   ]
  },
  {
   "cell_type": "code",
   "execution_count": 18,
   "id": "c2dc72e0",
   "metadata": {},
   "outputs": [
    {
     "name": "stdout",
     "output_type": "stream",
     "text": [
      "children\n",
      "Adult\n",
      "Citizen\n",
      "Citizen\n",
      "Seniour Citizen\n",
      "Seniour Citizen\n",
      "Adult\n",
      "children\n"
     ]
    }
   ],
   "source": [
    "list=[12,18,46,35,50,80,33,6]\n",
    "for age in list:\n",
    "    if(age<18):\n",
    "        print(\"children\")\n",
    "    elif(age<35):\n",
    "        print(\"Adult\")\n",
    "    elif(age<50):\n",
    "        print(\"Citizen\")\n",
    "    else:\n",
    "        print(\"Seniour Citizen\")"
   ]
  },
  {
   "cell_type": "code",
   "execution_count": 7,
   "id": "1b2a05d9",
   "metadata": {},
   "outputs": [
    {
     "name": "stdout",
     "output_type": "stream",
     "text": [
      "Enter the Number3\n",
      "The Number is Odd\n"
     ]
    }
   ],
   "source": [
    "#Odd or Even Number\n",
    "Number=int(input(\"Enter the Number\"))\n",
    "if((Number%2)==0):\n",
    "    print(\"The Number is Even\")\n",
    "else:\n",
    "    print(\"The Number is Odd\")"
   ]
  },
  {
   "cell_type": "code",
   "execution_count": null,
   "id": "f7e1258c",
   "metadata": {},
   "outputs": [],
   "source": [
    "Number=int(input(\"Enter the Number\"))\n",
    "if((Number%2)==1):\n",
    "    print(\"The Number is Odd\")\n",
    "else:\n",
    "    print(\"The Number is Even\")"
   ]
  },
  {
   "cell_type": "code",
   "execution_count": 9,
   "id": "04d7a621",
   "metadata": {},
   "outputs": [
    {
     "name": "stdout",
     "output_type": "stream",
     "text": [
      "0\n",
      "1\n",
      "2\n",
      "3\n",
      "4\n",
      "5\n",
      "6\n",
      "7\n",
      "8\n",
      "9\n"
     ]
    }
   ],
   "source": [
    "#range\n",
    "for Number in range(0,10):\n",
    "    print(Number)"
   ]
  },
  {
   "cell_type": "code",
   "execution_count": 10,
   "id": "fac8df59",
   "metadata": {},
   "outputs": [
    {
     "name": "stdout",
     "output_type": "stream",
     "text": [
      "0\n",
      "10\n",
      "20\n",
      "30\n",
      "40\n",
      "50\n",
      "60\n",
      "70\n",
      "80\n",
      "90\n"
     ]
    }
   ],
   "source": [
    "#range in gap\n",
    "for Number in range(0,100,10):\n",
    "    print(Number)"
   ]
  },
  {
   "cell_type": "code",
   "execution_count": null,
   "id": "0c982ed5",
   "metadata": {},
   "outputs": [],
   "source": []
  },
  {
   "cell_type": "code",
   "execution_count": null,
   "id": "b84d5ec2",
   "metadata": {},
   "outputs": [],
   "source": []
  }
 ],
 "metadata": {
  "kernelspec": {
   "display_name": "Python 3 (ipykernel)",
   "language": "python",
   "name": "python3"
  },
  "language_info": {
   "codemirror_mode": {
    "name": "ipython",
    "version": 3
   },
   "file_extension": ".py",
   "mimetype": "text/x-python",
   "name": "python",
   "nbconvert_exporter": "python",
   "pygments_lexer": "ipython3",
   "version": "3.11.5"
  }
 },
 "nbformat": 4,
 "nbformat_minor": 5
}
