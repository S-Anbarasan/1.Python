{
 "cells": [
  {
   "cell_type": "code",
   "execution_count": null,
   "id": "4c081b90",
   "metadata": {},
   "outputs": [],
   "source": [
    "print(\"Welcome to Assignment-1\")"
   ]
  },
  {
   "cell_type": "code",
   "execution_count": null,
   "id": "134680e6",
   "metadata": {},
   "outputs": [],
   "source": [
    "Num1=10\n",
    "Num2=30\n",
    "Add=Num1+Num2\n",
    "print(\"Num1=\",Num1)\n",
    "print(\"Num2=\",Num2)\n",
    "print(\"Add=\",Add)"
   ]
  },
  {
   "cell_type": "code",
   "execution_count": 7,
   "id": "b82fd8bc",
   "metadata": {},
   "outputs": [
    {
     "name": "stdout",
     "output_type": "stream",
     "text": [
      "Enter the BMI Index:39.5\n",
      "Obese Class2\n"
     ]
    }
   ],
   "source": [
    "#Body Mass Index\n",
    "BMI=float(input(\"Enter the BMI Index:\"))\n",
    "if(BMI<16):\n",
    "    print(\"Sever Thinness\")\n",
    "elif 16<=BMI<17:\n",
    "    print(\"Moderate Thinness\")\n",
    "elif 17<=BMI<18.5:\n",
    "    print(\"Mild Thinness\")\n",
    "elif 18.5<=BMI<25:\n",
    "    print(\"Normal\")\n",
    "elif 25<=BMI<30:\n",
    "    print(\"Over weight\")\n",
    "elif(30<=BMI<35):\n",
    "    print(\"Obese Class1\")\n",
    "elif 35<=BMI<40:\n",
    "    print(\"Obese Class2\")\n",
    "else:\n",
    "    print(\"Obese Class3\")"
   ]
  },
  {
   "cell_type": "code",
   "execution_count": null,
   "id": "d02c6372",
   "metadata": {},
   "outputs": [],
   "source": []
  },
  {
   "cell_type": "code",
   "execution_count": null,
   "id": "51dff502",
   "metadata": {},
   "outputs": [],
   "source": []
  },
  {
   "cell_type": "code",
   "execution_count": null,
   "id": "4a69b93e",
   "metadata": {},
   "outputs": [],
   "source": []
  }
 ],
 "metadata": {
  "kernelspec": {
   "display_name": "Python 3 (ipykernel)",
   "language": "python",
   "name": "python3"
  },
  "language_info": {
   "codemirror_mode": {
    "name": "ipython",
    "version": 3
   },
   "file_extension": ".py",
   "mimetype": "text/x-python",
   "name": "python",
   "nbconvert_exporter": "python",
   "pygments_lexer": "ipython3",
   "version": "3.11.5"
  }
 },
 "nbformat": 4,
 "nbformat_minor": 5
}
