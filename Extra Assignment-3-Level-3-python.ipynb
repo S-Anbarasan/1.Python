{
 "cells": [
  {
   "cell_type": "code",
   "execution_count": 12,
   "id": "9ffcd201",
   "metadata": {},
   "outputs": [
    {
     "name": "stdout",
     "output_type": "stream",
     "text": [
      "Value:10\n",
      "Correct\n"
     ]
    }
   ],
   "source": [
    "i=int(input(\"Value:\"))\n",
    "if i==10:\n",
    "    print(\"Correct\")\n",
    "else:\n",
    "    print(\"False\")"
   ]
  },
  {
   "cell_type": "code",
   "execution_count": 25,
   "id": "3a78dbe6",
   "metadata": {},
   "outputs": [
    {
     "name": "stdout",
     "output_type": "stream",
     "text": [
      "Enter the Password:HOPE@123\n",
      "Your Password is Correct\n"
     ]
    }
   ],
   "source": [
    "CorrectPassword=\"HOPE@123\"\n",
    "Password=input(\"Enter the Password:\")\n",
    "if Password==CorrectPassword:\n",
    "    print(\"Your Password is Correct\")\n",
    "else:\n",
    "    print(\"Password is Wrong\")\n"
   ]
  },
  {
   "cell_type": "code",
   "execution_count": 40,
   "id": "f7cad955",
   "metadata": {},
   "outputs": [
    {
     "name": "stdout",
     "output_type": "stream",
     "text": [
      "age:51\n",
      "Senior Citizen\n"
     ]
    }
   ],
   "source": [
    "Age=int(input(\"age:\"))\n",
    "if Age<=10:\n",
    "    print(\"Children\")\n",
    "elif Age<=30:\n",
    "    print(\"Adult\")\n",
    "elif Age<=50:\n",
    "    print(\"Citizen\")\n",
    "else:\n",
    "    print(\"Senior Citizen\")"
   ]
  },
  {
   "cell_type": "code",
   "execution_count": 45,
   "id": "fbfa7391",
   "metadata": {},
   "outputs": [
    {
     "name": "stdout",
     "output_type": "stream",
     "text": [
      "Enter any Number:-1\n",
      "No is negative\n"
     ]
    }
   ],
   "source": [
    "Num=int(input(\"Enter any Number:\"))\n",
    "if Num>0:\n",
    "    print(\"No is positive\")\n",
    "else:\n",
    "    print(\"No is negative\")"
   ]
  },
  {
   "cell_type": "code",
   "execution_count": 50,
   "id": "de19a7cc",
   "metadata": {},
   "outputs": [
    {
     "name": "stdout",
     "output_type": "stream",
     "text": [
      "Enter a number to check:9\n",
      "No is NOT divisible by 5\n"
     ]
    }
   ],
   "source": [
    "Num=int(input(\"Enter a number to check:\"))\n",
    "if Num %5==0:\n",
    "    print(\"No is divisible by 5\")\n",
    "else:\n",
    "    print(\"No is NOT divisible by 5\")"
   ]
  },
  {
   "cell_type": "code",
   "execution_count": null,
   "id": "36c491b6",
   "metadata": {},
   "outputs": [],
   "source": []
  }
 ],
 "metadata": {
  "kernelspec": {
   "display_name": "Python 3 (ipykernel)",
   "language": "python",
   "name": "python3"
  },
  "language_info": {
   "codemirror_mode": {
    "name": "ipython",
    "version": 3
   },
   "file_extension": ".py",
   "mimetype": "text/x-python",
   "name": "python",
   "nbconvert_exporter": "python",
   "pygments_lexer": "ipython3",
   "version": "3.11.5"
  }
 },
 "nbformat": 4,
 "nbformat_minor": 5
}
