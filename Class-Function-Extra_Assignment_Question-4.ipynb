{
 "cells": [
  {
   "cell_type": "code",
   "execution_count": 11,
   "id": "0a6024fc",
   "metadata": {},
   "outputs": [
    {
     "name": "stdout",
     "output_type": "stream",
     "text": [
      "Sub-fields in AI are:\n",
      "Machine Learning\n",
      "Neural Networks\n",
      "Vision\n",
      "Robotics\n",
      "Speech Processing\n",
      "Natural Language Processing\n"
     ]
    }
   ],
   "source": [
    "class MultiFunction():\n",
    "def list_subfields_in_ai():\n",
    "    subfields = [\n",
    "        \"Machine Learning\",\n",
    "        \"Neural Networks\",\n",
    "        \"Vision\",\n",
    "        \"Robotics\",\n",
    "        \"Speech Processing\",\n",
    "        \"Natural Language Processing\"\n",
    "    ]\n",
    "    \n",
    "    print(\"Sub-fields in AI are:\")\n",
    "    for subfield in subfields:\n",
    "        print(subfield)\n",
    "\n",
    "list_subfields_in_ai()"
   ]
  },
  {
   "cell_type": "code",
   "execution_count": 24,
   "id": "0d2be52d",
   "metadata": {},
   "outputs": [
    {
     "name": "stdout",
     "output_type": "stream",
     "text": [
      "Enter a number:52452\n",
      "52452 is Even Number\n"
     ]
    },
    {
     "data": {
      "text/plain": [
       "(52452, 'is Even Number')"
      ]
     },
     "execution_count": 24,
     "metadata": {},
     "output_type": "execute_result"
    }
   ],
   "source": [
    "Num=int(input(\"Enter a number:\"))\n",
    "def oddEven():\n",
    "    if Num %2==1:\n",
    "        print (Num,\" is Odd Number\")\n",
    "        Message=Num,\"is Odd Number\"\n",
    "    else:\n",
    "        print(Num,\"is Even Number\")\n",
    "        Message=Num,\"is Even Number\"\n",
    "    return Message\n",
    "\n",
    "oddEven()"
   ]
  },
  {
   "cell_type": "code",
   "execution_count": 48,
   "id": "5364809a",
   "metadata": {},
   "outputs": [
    {
     "name": "stdout",
     "output_type": "stream",
     "text": [
      "Your Gender: Male\n",
      "Your Age: 20\n",
      "NOT ELIGIBLE\n"
     ]
    }
   ],
   "source": [
    "gender = input(\"Your Gender: \")\n",
    "age = int(input(\"Your Age: \"))\n",
    "def check_marriage_eligibility(gender, age):\n",
    "    if gender.lower() == \"male\" and age >= 21:\n",
    "        return \"ELIGIBLE\"\n",
    "    elif gender.lower() == \"female\" and age >= 18:\n",
    "        return \"ELIGIBLE\"\n",
    "    else:\n",
    "        return \"NOT ELIGIBLE\"\n",
    "eligibility = check_marriage_eligibility(gender, age)\n",
    "print(eligibility)"
   ]
  },
  {
   "cell_type": "code",
   "execution_count": 57,
   "id": "06495558",
   "metadata": {},
   "outputs": [
    {
     "name": "stdout",
     "output_type": "stream",
     "text": [
      "Subject 1 (out of 100): 98\n",
      "Subject 2 (out of 100): 87\n",
      "Subject 3 (out of 100): 95\n",
      "Subject 4 (out of 100): 95\n",
      "Subject 5 (out of 100): 93\n",
      "Total: 468\n",
      "Percentage: 93.60000000000001%\n"
     ]
    }
   ],
   "source": [
    "class FindPercent:\n",
    "    def percentage(self, marks):\n",
    "        total_marks = sum(marks)\n",
    "        percentage = (total_marks / 500) * 100\n",
    "        return total_marks, percentage\n",
    "calculator = FindPercent()\n",
    "marks = []\n",
    "for i in range(1, 6):\n",
    "    mark = int(input(f\"Subject {i} (out of 100): \"))\n",
    "    marks.append(mark)\n",
    "total, percent = calculator.percentage(marks)\n",
    "print(f\"Total: {total}\")\n",
    "print(f\"Percentage: {percent:.14f}%\")"
   ]
  },
  {
   "cell_type": "code",
   "execution_count": 58,
   "id": "4e7abb45",
   "metadata": {},
   "outputs": [
    {
     "name": "stdout",
     "output_type": "stream",
     "text": [
      "Height: 32\n",
      "Breadth: 34\n",
      "Area formula: (Height*Breadth)/2\n",
      "Area of Triangle: 544.0\n",
      "Height1: 2\n",
      "Height2: 4\n",
      "Breadth: 4\n",
      "Perimeter formula: Height1+Height2+Breadth\n",
      "Perimeter of Triangle: 10\n"
     ]
    }
   ],
   "source": [
    "def calculate_area(height, breadth):\n",
    "    return (height * breadth) / 2\n",
    "def calculate_perimeter(height1, height2, breadth):\n",
    "    return height1 + height2 + breadth\n",
    "height = int(input(\"Height: \"))\n",
    "breadth = int(input(\"Breadth: \"))\n",
    "area = calculate_area(height, breadth)\n",
    "print(f\"Area formula: (Height*Breadth)/2\")\n",
    "print(f\"Area of Triangle: {area}\")\n",
    "height1 = int(input(\"Height1: \"))\n",
    "height2 = int(input(\"Height2: \"))\n",
    "breadth = int(input(\"Breadth: \"))\n",
    "perimeter = calculate_perimeter(height1, height2, breadth)\n",
    "print(f\"Perimeter formula: Height1+Height2+Breadth\")\n",
    "print(f\"Perimeter of Triangle: {perimeter}\")"
   ]
  },
  {
   "cell_type": "code",
   "execution_count": null,
   "id": "a94ad4aa",
   "metadata": {},
   "outputs": [],
   "source": []
  }
 ],
 "metadata": {
  "kernelspec": {
   "display_name": "Python 3 (ipykernel)",
   "language": "python",
   "name": "python3"
  },
  "language_info": {
   "codemirror_mode": {
    "name": "ipython",
    "version": 3
   },
   "file_extension": ".py",
   "mimetype": "text/x-python",
   "name": "python",
   "nbconvert_exporter": "python",
   "pygments_lexer": "ipython3",
   "version": "3.11.5"
  }
 },
 "nbformat": 4,
 "nbformat_minor": 5
}
