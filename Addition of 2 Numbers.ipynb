{
 "cells": [
  {
   "cell_type": "code",
   "execution_count": 2,
   "id": "7419af9a",
   "metadata": {},
   "outputs": [
    {
     "name": "stdout",
     "output_type": "stream",
     "text": [
      "The addition of two numbers\n",
      "The Number1: 10\n",
      "The Number2: 20\n",
      "The Answer: 30\n"
     ]
    }
   ],
   "source": [
    "Number1=10\n",
    "Number2=20\n",
    "print(\"The addition of two numbers\")\n",
    "print(\"The Number1:\",Number1)\n",
    "print(\"The Number2:\",Number2)\n",
    "print(\"The Answer:\",Number1+Number2)"
   ]
  },
  {
   "cell_type": "code",
   "execution_count": null,
   "id": "ef6d3eb7",
   "metadata": {},
   "outputs": [],
   "source": []
  }
 ],
 "metadata": {
  "kernelspec": {
   "display_name": "Python 3 (ipykernel)",
   "language": "python",
   "name": "python3"
  },
  "language_info": {
   "codemirror_mode": {
    "name": "ipython",
    "version": 3
   },
   "file_extension": ".py",
   "mimetype": "text/x-python",
   "name": "python",
   "nbconvert_exporter": "python",
   "pygments_lexer": "ipython3",
   "version": "3.11.5"
  }
 },
 "nbformat": 4,
 "nbformat_minor": 5
}
